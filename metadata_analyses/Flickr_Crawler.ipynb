{
 "cells": [
  {
   "cell_type": "markdown",
   "id": "13c53036-7ad7-47b4-ad28-8b600028cbb1",
   "metadata": {},
   "source": [
    "# Import Image from Flickr via flickrapi"
   ]
  },
  {
   "cell_type": "markdown",
   "id": "291ee330-58c3-4efc-ab87-54a2bedc6a6b",
   "metadata": {},
   "source": [
    "install packages from provided requirements.txt file."
   ]
  },
  {
   "cell_type": "code",
   "execution_count": 1,
   "id": "a9629327-43e7-40e7-aae9-0f5a55ec6d9f",
   "metadata": {},
   "outputs": [
    {
     "name": "stdout",
     "output_type": "stream",
     "text": [
      "Collecting git+https://github.com/openai/CLIP.git (from -r requirements.txt (line 5))\r\n",
      "  Cloning https://github.com/openai/CLIP.git to /private/var/folders/kp/3bh91wns7nz7wx71lyc4rwwr0000gn/T/pip-req-build-m4n181oe\r\n",
      "  Running command git clone -q https://github.com/openai/CLIP.git /private/var/folders/kp/3bh91wns7nz7wx71lyc4rwwr0000gn/T/pip-req-build-m4n181oe\r\n",
      "Requirement already satisfied: flickrapi in ./venv/lib/python3.9/site-packages (from -r requirements.txt (line 1)) (2.4.0)\r\n",
      "Requirement already satisfied: jupyterlab in ./venv/lib/python3.9/site-packages (from -r requirements.txt (line 2)) (3.2.4)\r\n",
      "Requirement already satisfied: sklearn in ./venv/lib/python3.9/site-packages (from -r requirements.txt (line 3)) (0.0)\r\n",
      "Requirement already satisfied: Pillow in ./venv/lib/python3.9/site-packages (from -r requirements.txt (line 4)) (8.4.0)\r\n",
      "Requirement already satisfied: tabulate in ./venv/lib/python3.9/site-packages (from -r requirements.txt (line 6)) (0.8.9)\r\n",
      "Requirement already satisfied: wordcloud in ./venv/lib/python3.9/site-packages (from -r requirements.txt (line 7)) (1.8.1)\r\n",
      "Requirement already satisfied: folium in ./venv/lib/python3.9/site-packages (from -r requirements.txt (line 8)) (0.12.1.post1)\r\n",
      "Requirement already satisfied: ftfy in ./venv/lib/python3.9/site-packages (from clip==1.0->-r requirements.txt (line 5)) (6.0.3)\r\n",
      "Requirement already satisfied: regex in ./venv/lib/python3.9/site-packages (from clip==1.0->-r requirements.txt (line 5)) (2021.11.10)\r\n",
      "Requirement already satisfied: tqdm in ./venv/lib/python3.9/site-packages (from clip==1.0->-r requirements.txt (line 5)) (4.62.3)\r\n",
      "Requirement already satisfied: torch in ./venv/lib/python3.9/site-packages (from clip==1.0->-r requirements.txt (line 5)) (1.10.0)\r\n",
      "Requirement already satisfied: torchvision in ./venv/lib/python3.9/site-packages (from clip==1.0->-r requirements.txt (line 5)) (0.11.1)\r\n",
      "Requirement already satisfied: six>=1.5.2 in ./venv/lib/python3.9/site-packages (from flickrapi->-r requirements.txt (line 1)) (1.16.0)\r\n",
      "Requirement already satisfied: requests-oauthlib>=0.4.0 in ./venv/lib/python3.9/site-packages (from flickrapi->-r requirements.txt (line 1)) (1.3.0)\r\n",
      "Requirement already satisfied: requests-toolbelt>=0.3.1 in ./venv/lib/python3.9/site-packages (from flickrapi->-r requirements.txt (line 1)) (0.9.1)\r\n",
      "Requirement already satisfied: requests>=2.2.1 in ./venv/lib/python3.9/site-packages (from flickrapi->-r requirements.txt (line 1)) (2.26.0)\r\n",
      "Requirement already satisfied: idna<4,>=2.5 in ./venv/lib/python3.9/site-packages (from requests>=2.2.1->flickrapi->-r requirements.txt (line 1)) (3.3)\r\n",
      "Requirement already satisfied: certifi>=2017.4.17 in ./venv/lib/python3.9/site-packages (from requests>=2.2.1->flickrapi->-r requirements.txt (line 1)) (2021.10.8)\r\n",
      "Requirement already satisfied: urllib3<1.27,>=1.21.1 in ./venv/lib/python3.9/site-packages (from requests>=2.2.1->flickrapi->-r requirements.txt (line 1)) (1.26.7)\r\n",
      "Requirement already satisfied: charset-normalizer~=2.0.0 in ./venv/lib/python3.9/site-packages (from requests>=2.2.1->flickrapi->-r requirements.txt (line 1)) (2.0.8)\r\n",
      "Requirement already satisfied: oauthlib>=3.0.0 in ./venv/lib/python3.9/site-packages (from requests-oauthlib>=0.4.0->flickrapi->-r requirements.txt (line 1)) (3.1.1)\r\n",
      "Requirement already satisfied: tornado>=6.1.0 in ./venv/lib/python3.9/site-packages (from jupyterlab->-r requirements.txt (line 2)) (6.1)\r\n",
      "Requirement already satisfied: ipython in ./venv/lib/python3.9/site-packages (from jupyterlab->-r requirements.txt (line 2)) (7.30.0)\r\n",
      "Requirement already satisfied: jupyter-server~=1.4 in ./venv/lib/python3.9/site-packages (from jupyterlab->-r requirements.txt (line 2)) (1.12.1)\r\n",
      "Requirement already satisfied: jupyterlab-server~=2.3 in ./venv/lib/python3.9/site-packages (from jupyterlab->-r requirements.txt (line 2)) (2.8.2)\r\n",
      "Requirement already satisfied: nbclassic~=0.2 in ./venv/lib/python3.9/site-packages (from jupyterlab->-r requirements.txt (line 2)) (0.3.4)\r\n",
      "Requirement already satisfied: jupyter-core in ./venv/lib/python3.9/site-packages (from jupyterlab->-r requirements.txt (line 2)) (4.9.1)\r\n",
      "Requirement already satisfied: packaging in ./venv/lib/python3.9/site-packages (from jupyterlab->-r requirements.txt (line 2)) (21.3)\r\n",
      "Requirement already satisfied: jinja2>=2.1 in ./venv/lib/python3.9/site-packages (from jupyterlab->-r requirements.txt (line 2)) (3.0.3)\r\n",
      "Requirement already satisfied: MarkupSafe>=2.0 in ./venv/lib/python3.9/site-packages (from jinja2>=2.1->jupyterlab->-r requirements.txt (line 2)) (2.0.1)\r\n",
      "Requirement already satisfied: pyzmq>=17 in ./venv/lib/python3.9/site-packages (from jupyter-server~=1.4->jupyterlab->-r requirements.txt (line 2)) (22.3.0)\r\n",
      "Requirement already satisfied: jupyter-client>=6.1.1 in ./venv/lib/python3.9/site-packages (from jupyter-server~=1.4->jupyterlab->-r requirements.txt (line 2)) (7.1.0)\r\n",
      "Requirement already satisfied: traitlets>=4.2.1 in ./venv/lib/python3.9/site-packages (from jupyter-server~=1.4->jupyterlab->-r requirements.txt (line 2)) (5.1.1)\r\n",
      "Requirement already satisfied: anyio<4,>=3.1.0 in ./venv/lib/python3.9/site-packages (from jupyter-server~=1.4->jupyterlab->-r requirements.txt (line 2)) (3.4.0)\r\n",
      "Requirement already satisfied: nbconvert in ./venv/lib/python3.9/site-packages (from jupyter-server~=1.4->jupyterlab->-r requirements.txt (line 2)) (6.3.0)\r\n",
      "Requirement already satisfied: ipython-genutils in ./venv/lib/python3.9/site-packages (from jupyter-server~=1.4->jupyterlab->-r requirements.txt (line 2)) (0.2.0)\r\n",
      "Requirement already satisfied: argon2-cffi in ./venv/lib/python3.9/site-packages (from jupyter-server~=1.4->jupyterlab->-r requirements.txt (line 2)) (21.1.0)\r\n",
      "Requirement already satisfied: Send2Trash in ./venv/lib/python3.9/site-packages (from jupyter-server~=1.4->jupyterlab->-r requirements.txt (line 2)) (1.8.0)\r\n",
      "Requirement already satisfied: nbformat in ./venv/lib/python3.9/site-packages (from jupyter-server~=1.4->jupyterlab->-r requirements.txt (line 2)) (5.1.3)\r\n",
      "Requirement already satisfied: prometheus-client in ./venv/lib/python3.9/site-packages (from jupyter-server~=1.4->jupyterlab->-r requirements.txt (line 2)) (0.12.0)\r\n",
      "Requirement already satisfied: websocket-client in ./venv/lib/python3.9/site-packages (from jupyter-server~=1.4->jupyterlab->-r requirements.txt (line 2)) (1.2.1)\r\n",
      "Requirement already satisfied: terminado>=0.8.3 in ./venv/lib/python3.9/site-packages (from jupyter-server~=1.4->jupyterlab->-r requirements.txt (line 2)) (0.12.1)\r\n",
      "Requirement already satisfied: sniffio>=1.1 in ./venv/lib/python3.9/site-packages (from anyio<4,>=3.1.0->jupyter-server~=1.4->jupyterlab->-r requirements.txt (line 2)) (1.2.0)\r\n",
      "Requirement already satisfied: nest-asyncio>=1.5 in ./venv/lib/python3.9/site-packages (from jupyter-client>=6.1.1->jupyter-server~=1.4->jupyterlab->-r requirements.txt (line 2)) (1.5.1)\r\n",
      "Requirement already satisfied: entrypoints in ./venv/lib/python3.9/site-packages (from jupyter-client>=6.1.1->jupyter-server~=1.4->jupyterlab->-r requirements.txt (line 2)) (0.3)\r\n",
      "Requirement already satisfied: python-dateutil>=2.1 in ./venv/lib/python3.9/site-packages (from jupyter-client>=6.1.1->jupyter-server~=1.4->jupyterlab->-r requirements.txt (line 2)) (2.8.2)\r\n",
      "Requirement already satisfied: babel in ./venv/lib/python3.9/site-packages (from jupyterlab-server~=2.3->jupyterlab->-r requirements.txt (line 2)) (2.9.1)\r\n",
      "Requirement already satisfied: jsonschema>=3.0.1 in ./venv/lib/python3.9/site-packages (from jupyterlab-server~=2.3->jupyterlab->-r requirements.txt (line 2)) (4.2.1)\r\n",
      "Requirement already satisfied: json5 in ./venv/lib/python3.9/site-packages (from jupyterlab-server~=2.3->jupyterlab->-r requirements.txt (line 2)) (0.9.6)\r\n",
      "Requirement already satisfied: pyrsistent!=0.17.0,!=0.17.1,!=0.17.2,>=0.14.0 in ./venv/lib/python3.9/site-packages (from jsonschema>=3.0.1->jupyterlab-server~=2.3->jupyterlab->-r requirements.txt (line 2)) (0.18.0)\r\n",
      "Requirement already satisfied: attrs>=17.4.0 in ./venv/lib/python3.9/site-packages (from jsonschema>=3.0.1->jupyterlab-server~=2.3->jupyterlab->-r requirements.txt (line 2)) (21.2.0)\r\n",
      "Requirement already satisfied: notebook<7 in ./venv/lib/python3.9/site-packages (from nbclassic~=0.2->jupyterlab->-r requirements.txt (line 2)) (6.4.6)\r\n",
      "Requirement already satisfied: ipykernel in ./venv/lib/python3.9/site-packages (from notebook<7->nbclassic~=0.2->jupyterlab->-r requirements.txt (line 2)) (6.5.1)\r\n",
      "Requirement already satisfied: ptyprocess in ./venv/lib/python3.9/site-packages (from terminado>=0.8.3->jupyter-server~=1.4->jupyterlab->-r requirements.txt (line 2)) (0.7.0)\r\n",
      "Requirement already satisfied: scikit-learn in ./venv/lib/python3.9/site-packages (from sklearn->-r requirements.txt (line 3)) (1.0.1)\r\n",
      "Requirement already satisfied: numpy>=1.6.1 in ./venv/lib/python3.9/site-packages (from wordcloud->-r requirements.txt (line 7)) (1.21.4)\r\n",
      "Requirement already satisfied: matplotlib in ./venv/lib/python3.9/site-packages (from wordcloud->-r requirements.txt (line 7)) (3.5.0)\r\n",
      "Requirement already satisfied: branca>=0.3.0 in ./venv/lib/python3.9/site-packages (from folium->-r requirements.txt (line 8)) (0.4.2)\r\n",
      "Requirement already satisfied: cffi>=1.0.0 in ./venv/lib/python3.9/site-packages (from argon2-cffi->jupyter-server~=1.4->jupyterlab->-r requirements.txt (line 2)) (1.15.0)\r\n",
      "Requirement already satisfied: pycparser in ./venv/lib/python3.9/site-packages (from cffi>=1.0.0->argon2-cffi->jupyter-server~=1.4->jupyterlab->-r requirements.txt (line 2)) (2.21)\r\n",
      "Requirement already satisfied: pytz>=2015.7 in ./venv/lib/python3.9/site-packages (from babel->jupyterlab-server~=2.3->jupyterlab->-r requirements.txt (line 2)) (2021.3)\r\n",
      "Requirement already satisfied: wcwidth in ./venv/lib/python3.9/site-packages (from ftfy->clip==1.0->-r requirements.txt (line 5)) (0.2.5)\r\n",
      "Requirement already satisfied: appnope in ./venv/lib/python3.9/site-packages (from ipykernel->notebook<7->nbclassic~=0.2->jupyterlab->-r requirements.txt (line 2)) (0.1.2)\r\n",
      "Requirement already satisfied: matplotlib-inline<0.2.0,>=0.1.0 in ./venv/lib/python3.9/site-packages (from ipykernel->notebook<7->nbclassic~=0.2->jupyterlab->-r requirements.txt (line 2)) (0.1.3)\r\n",
      "Requirement already satisfied: debugpy<2.0,>=1.0.0 in ./venv/lib/python3.9/site-packages (from ipykernel->notebook<7->nbclassic~=0.2->jupyterlab->-r requirements.txt (line 2)) (1.5.1)\r\n",
      "Requirement already satisfied: setuptools>=18.5 in ./venv/lib/python3.9/site-packages (from ipython->jupyterlab->-r requirements.txt (line 2)) (57.0.0)\r\n",
      "Requirement already satisfied: pexpect>4.3 in ./venv/lib/python3.9/site-packages (from ipython->jupyterlab->-r requirements.txt (line 2)) (4.8.0)\r\n",
      "Requirement already satisfied: pygments in ./venv/lib/python3.9/site-packages (from ipython->jupyterlab->-r requirements.txt (line 2)) (2.10.0)\r\n",
      "Requirement already satisfied: decorator in ./venv/lib/python3.9/site-packages (from ipython->jupyterlab->-r requirements.txt (line 2)) (5.1.0)\r\n",
      "Requirement already satisfied: backcall in ./venv/lib/python3.9/site-packages (from ipython->jupyterlab->-r requirements.txt (line 2)) (0.2.0)\r\n",
      "Requirement already satisfied: prompt-toolkit!=3.0.0,!=3.0.1,<3.1.0,>=2.0.0 in ./venv/lib/python3.9/site-packages (from ipython->jupyterlab->-r requirements.txt (line 2)) (3.0.23)\r\n",
      "Requirement already satisfied: jedi>=0.16 in ./venv/lib/python3.9/site-packages (from ipython->jupyterlab->-r requirements.txt (line 2)) (0.18.1)\r\n",
      "Requirement already satisfied: pickleshare in ./venv/lib/python3.9/site-packages (from ipython->jupyterlab->-r requirements.txt (line 2)) (0.7.5)\r\n",
      "Requirement already satisfied: parso<0.9.0,>=0.8.0 in ./venv/lib/python3.9/site-packages (from jedi>=0.16->ipython->jupyterlab->-r requirements.txt (line 2)) (0.8.2)\r\n",
      "Requirement already satisfied: kiwisolver>=1.0.1 in ./venv/lib/python3.9/site-packages (from matplotlib->wordcloud->-r requirements.txt (line 7)) (1.3.2)\r\n",
      "Requirement already satisfied: fonttools>=4.22.0 in ./venv/lib/python3.9/site-packages (from matplotlib->wordcloud->-r requirements.txt (line 7)) (4.28.2)\r\n",
      "Requirement already satisfied: setuptools-scm>=4 in ./venv/lib/python3.9/site-packages (from matplotlib->wordcloud->-r requirements.txt (line 7)) (6.3.2)\r\n",
      "Requirement already satisfied: cycler>=0.10 in ./venv/lib/python3.9/site-packages (from matplotlib->wordcloud->-r requirements.txt (line 7)) (0.11.0)\r\n",
      "Requirement already satisfied: pyparsing>=2.2.1 in ./venv/lib/python3.9/site-packages (from matplotlib->wordcloud->-r requirements.txt (line 7)) (3.0.6)\r\n",
      "Requirement already satisfied: tomli>=1.0.0 in ./venv/lib/python3.9/site-packages (from setuptools-scm>=4->matplotlib->wordcloud->-r requirements.txt (line 7)) (1.2.2)\r\n",
      "Requirement already satisfied: nbclient<0.6.0,>=0.5.0 in ./venv/lib/python3.9/site-packages (from nbconvert->jupyter-server~=1.4->jupyterlab->-r requirements.txt (line 2)) (0.5.9)\r\n",
      "Requirement already satisfied: testpath in ./venv/lib/python3.9/site-packages (from nbconvert->jupyter-server~=1.4->jupyterlab->-r requirements.txt (line 2)) (0.5.0)\r\n",
      "Requirement already satisfied: mistune<2,>=0.8.1 in ./venv/lib/python3.9/site-packages (from nbconvert->jupyter-server~=1.4->jupyterlab->-r requirements.txt (line 2)) (0.8.4)\r\n",
      "Requirement already satisfied: jupyterlab-pygments in ./venv/lib/python3.9/site-packages (from nbconvert->jupyter-server~=1.4->jupyterlab->-r requirements.txt (line 2)) (0.1.2)\r\n",
      "Requirement already satisfied: pandocfilters>=1.4.1 in ./venv/lib/python3.9/site-packages (from nbconvert->jupyter-server~=1.4->jupyterlab->-r requirements.txt (line 2)) (1.5.0)\r\n",
      "Requirement already satisfied: defusedxml in ./venv/lib/python3.9/site-packages (from nbconvert->jupyter-server~=1.4->jupyterlab->-r requirements.txt (line 2)) (0.7.1)\r\n",
      "Requirement already satisfied: bleach in ./venv/lib/python3.9/site-packages (from nbconvert->jupyter-server~=1.4->jupyterlab->-r requirements.txt (line 2)) (4.1.0)\r\n",
      "Requirement already satisfied: webencodings in ./venv/lib/python3.9/site-packages (from bleach->nbconvert->jupyter-server~=1.4->jupyterlab->-r requirements.txt (line 2)) (0.5.1)\r\n",
      "Requirement already satisfied: joblib>=0.11 in ./venv/lib/python3.9/site-packages (from scikit-learn->sklearn->-r requirements.txt (line 3)) (1.1.0)\r\n",
      "Requirement already satisfied: threadpoolctl>=2.0.0 in ./venv/lib/python3.9/site-packages (from scikit-learn->sklearn->-r requirements.txt (line 3)) (3.0.0)\r\n",
      "Requirement already satisfied: scipy>=1.1.0 in ./venv/lib/python3.9/site-packages (from scikit-learn->sklearn->-r requirements.txt (line 3)) (1.7.3)\r\n",
      "Requirement already satisfied: typing-extensions in ./venv/lib/python3.9/site-packages (from torch->clip==1.0->-r requirements.txt (line 5)) (4.0.0)\r\n",
      "\u001B[33mWARNING: You are using pip version 21.1.2; however, version 21.3.1 is available.\r\n",
      "You should consider upgrading via the '/Users/yannick/Documents/VGI/YRG/integration-quality/Flickr_Tag_Analysis/venv/bin/python -m pip install --upgrade pip' command.\u001B[0m\r\n"
     ]
    }
   ],
   "source": [
    "!pip install -r requirements.txt"
   ]
  },
  {
   "cell_type": "code",
   "execution_count": 2,
   "id": "ab68cb97-2978-422a-b5b9-c7370cf65a15",
   "metadata": {},
   "outputs": [],
   "source": [
    "import flickrapi\n",
    "from PIL import Image\n",
    "import urllib\n",
    "from gallery import gallery\n",
    "import requests\n",
    "import sys\n",
    "import os\n",
    "from sklearn.metrics import plot_confusion_matrix\n",
    "%matplotlib inline\n",
    "import matplotlib.pyplot as plt"
   ]
  },
  {
   "cell_type": "markdown",
   "id": "a0493fc7-fd39-44cd-a7a2-12cf55a324ea",
   "metadata": {},
   "source": [
    "The API credentials can be received by registering to the free, non-commercial Flickr API"
   ]
  },
  {
   "cell_type": "code",
   "execution_count": 3,
   "id": "383bc882-b115-4940-9029-8da83ee6269e",
   "metadata": {},
   "outputs": [
    {
     "ename": "ModuleNotFoundError",
     "evalue": "No module named 'api_creds'",
     "output_type": "error",
     "traceback": [
      "\u001B[0;31m---------------------------------------------------------------------------\u001B[0m",
      "\u001B[0;31mModuleNotFoundError\u001B[0m                       Traceback (most recent call last)",
      "\u001B[0;32m/var/folders/kp/3bh91wns7nz7wx71lyc4rwwr0000gn/T/ipykernel_19563/597960546.py\u001B[0m in \u001B[0;36m<module>\u001B[0;34m\u001B[0m\n\u001B[0;32m----> 1\u001B[0;31m \u001B[0;32mimport\u001B[0m \u001B[0mapi_creds\u001B[0m\u001B[0;34m\u001B[0m\u001B[0;34m\u001B[0m\u001B[0m\n\u001B[0m\u001B[1;32m      2\u001B[0m \u001B[0;34m\u001B[0m\u001B[0m\n",
      "\u001B[0;31mModuleNotFoundError\u001B[0m: No module named 'api_creds'"
     ]
    }
   ],
   "source": [
    "import api_creds"
   ]
  },
  {
   "cell_type": "code",
   "execution_count": null,
   "id": "63b07540-c1dd-4d09-96ad-a39a8b7c5d3b",
   "metadata": {},
   "outputs": [],
   "source": [
    "flickr=flickrapi.FlickrAPI(api_creds.api_key, api_creds.api_secret, cache=True)"
   ]
  },
  {
   "cell_type": "code",
   "execution_count": null,
   "id": "11912548-da6e-4889-b0d0-1faa218392d6",
   "metadata": {},
   "outputs": [],
   "source": [
    "keyword = \"Prunella Modularis\""
   ]
  },
  {
   "cell_type": "markdown",
   "id": "0998f15a-cedd-4889-92b2-b058a18023da",
   "metadata": {},
   "source": [
    "## Translations and Related Terms via ConceptNet\n",
    "\n",
    "Get translations and related terms via the ConceptNet API"
   ]
  },
  {
   "cell_type": "code",
   "execution_count": null,
   "id": "c673e00f-0905-45a3-b361-2ed0fab69369",
   "metadata": {},
   "outputs": [],
   "source": [
    "concept_node = requests.get('http://api.conceptnet.io/c/en/'+keyword.lower().replace(\" \",\"_\")).json()"
   ]
  },
  {
   "cell_type": "code",
   "execution_count": null,
   "id": "9f87c86c-3354-4b8c-b0c8-99df04c9d7be",
   "metadata": {},
   "outputs": [],
   "source": [
    "[c[\"rel\"] for c in concept_node[\"edges\"]]"
   ]
  },
  {
   "cell_type": "code",
   "execution_count": null,
   "id": "8283ca74-5872-4816-8c81-0cca62a0d61e",
   "metadata": {},
   "outputs": [],
   "source": [
    "language_synomyms = [c for c in concept_node[\"edges\"] if c[\"rel\"][\"label\"] == \"Synonym\"]"
   ]
  },
  {
   "cell_type": "code",
   "execution_count": null,
   "id": "8c1a0065-052d-46bc-a90b-a4af773a4655",
   "metadata": {},
   "outputs": [],
   "source": [
    "translations = [*[(l[\"start\"][\"language\"], l[\"start\"][\"label\"]) for l in language_synomyms if l[\"start\"][\"language\"] != \"en\"] \n",
    ",*[(l[\"end\"][\"language\"], l[\"end\"][\"label\"]) for l in language_synomyms if l[\"end\"][\"language\"] != \"en\"]]"
   ]
  },
  {
   "cell_type": "code",
   "execution_count": null,
   "id": "051abe13-6281-4f18-a1ad-1fe69b817edb",
   "metadata": {},
   "outputs": [],
   "source": [
    "translations"
   ]
  },
  {
   "cell_type": "code",
   "execution_count": null,
   "id": "7ecadca6-196b-472a-8e9b-5d2b5144db89",
   "metadata": {},
   "outputs": [],
   "source": [
    "related_to = [c for c in concept_node[\"edges\"] if c[\"rel\"][\"label\"] == \"RelatedTo\"]\n",
    "related_to = [(c[\"end\"][\"language\"], c[\"end\"][\"label\"]) for c in related_to if c[\"end\"][\"label\"] != keyword.lower()]"
   ]
  },
  {
   "cell_type": "code",
   "execution_count": null,
   "id": "908938a7-d8e4-4c14-9793-e87c39f47921",
   "metadata": {},
   "outputs": [],
   "source": [
    "'http://related/c/en/'+keyword.lower().replace(\" \",\"_\")+\"?filter=/c/en\""
   ]
  },
  {
   "cell_type": "code",
   "execution_count": null,
   "id": "7aa1773a-c83e-4d31-9415-39eb93a40e18",
   "metadata": {},
   "outputs": [],
   "source": [
    "form_of = [c for c in concept_node[\"edges\"] if c[\"rel\"][\"label\"] == \"FormOf\"]\n",
    "form_of = [(c[\"start\"][\"language\"], c[\"start\"][\"label\"]) for c in form_of if c[\"start\"][\"label\"] != keyword.lower()]"
   ]
  },
  {
   "cell_type": "code",
   "execution_count": null,
   "id": "2b840633-0249-48ea-bf8a-18b629980dc5",
   "metadata": {},
   "outputs": [],
   "source": [
    "form_of"
   ]
  },
  {
   "cell_type": "code",
   "execution_count": null,
   "id": "b971059d-9b3d-42e2-ad94-b896d87133cd",
   "metadata": {},
   "outputs": [],
   "source": [
    "related_nodes = requests.get('http://api.conceptnet.io/related/c/en/'+keyword.lower().replace(\" \",\"_\")+\"?filter=/c/en\").json()"
   ]
  },
  {
   "cell_type": "markdown",
   "id": "ecc35d3b-3aac-48ce-b235-7a1e286d018c",
   "metadata": {},
   "source": [
    "## Actual Crawling\n",
    "\n",
    "Based on the given keyword and related tags, we crawl images from Flickr."
   ]
  },
  {
   "cell_type": "code",
   "execution_count": null,
   "id": "0784aebc-aad1-45e5-bfd6-833a95392bfb",
   "metadata": {},
   "outputs": [],
   "source": [
    "photos = flickr.walk(text=keyword,\n",
    "                     tag_mode='all',\n",
    "                     tags=keyword,\n",
    "                     extras='url_c',\n",
    "                     per_page=100,           # may be you can try different numbers..\n",
    "                     sort='relevance')"
   ]
  },
  {
   "cell_type": "code",
   "execution_count": null,
   "id": "207038ef-8f41-4977-8c11-3c57b9924e73",
   "metadata": {},
   "outputs": [],
   "source": [
    "urls = []\n",
    "\n",
    "os.makedirs(os.path.join(\"training_data\", keyword), exist_ok=True)\n",
    "                     \n",
    "\n",
    "for i, photo in enumerate(photos):\n",
    "    \n",
    "    url = photo.get('url_c')\n",
    "    \n",
    "    # get 200 urls\n",
    "    if i > 200:\n",
    "        break\n",
    "        \n",
    "        \n",
    "    if isinstance(url, str):\n",
    "        try:\n",
    "            urllib.request.urlretrieve(url, os.path.join(\"training_data\", keyword, \"photo_\"+str(i)+\".png\"))\n",
    "        except:\n",
    "            print(\"that didnt work: \", url)\n",
    "            "
   ]
  },
  {
   "cell_type": "code",
   "execution_count": null,
   "id": "894b1d11-ae31-4d5f-b212-279d52df445e",
   "metadata": {},
   "outputs": [],
   "source": [
    "geocoord = flickr.photos.geo.getLocation(photo_id=p.get('id'))"
   ]
  },
  {
   "cell_type": "markdown",
   "id": "d57f10e4-c178-4136-bf39-643dce8b5348",
   "metadata": {},
   "source": [
    "geocoord.attrib"
   ]
  },
  {
   "cell_type": "code",
   "execution_count": null,
   "id": "d3182dce-fbbe-453a-a607-6f305f8875c3",
   "metadata": {},
   "outputs": [],
   "source": [
    "gallery(urls[:150], row_height=\"150px\")"
   ]
  },
  {
   "cell_type": "markdown",
   "id": "4fa374dd-fc63-4929-bc35-4fbd527ddc64",
   "metadata": {},
   "source": [
    "# Image Classification for Filtering"
   ]
  },
  {
   "cell_type": "code",
   "execution_count": null,
   "id": "88a666a1-9ed2-467e-b356-63a9a8ff01b9",
   "metadata": {},
   "outputs": [],
   "source": [
    "import os\n",
    "import clip\n",
    "import torch\n",
    "\n",
    "import numpy as np\n",
    "from sklearn.linear_model import LogisticRegression\n",
    "from torch.utils.data import DataLoader\n",
    "from torchvision.datasets.folder import ImageFolder\n",
    "import torchvision.transforms as transforms\n",
    "from tqdm import tqdm\n",
    "\n",
    "model, preprocess = clip.load(\"RN50x4\")"
   ]
  },
  {
   "cell_type": "code",
   "execution_count": null,
   "id": "d97207ca-35e8-41dd-9408-8c5a0378865a",
   "metadata": {},
   "outputs": [],
   "source": [
    "def clip_label_transform(label: str):\n",
    "    return \"A Picture of a \"+label"
   ]
  },
  {
   "cell_type": "code",
   "execution_count": null,
   "id": "15fecbb0-6bed-4845-a0cc-5d529811aa8b",
   "metadata": {},
   "outputs": [],
   "source": [
    "data_loader = ImageFolder(\"./training_data\", transform=preprocess)"
   ]
  },
  {
   "cell_type": "code",
   "execution_count": null,
   "id": "7febdbb9-5fbf-424c-ba98-c20a27b7c54f",
   "metadata": {},
   "outputs": [],
   "source": [
    "len(data_loader)"
   ]
  },
  {
   "cell_type": "code",
   "execution_count": null,
   "id": "0d006231-65b2-4038-8eac-fa5ea9e939b8",
   "metadata": {},
   "outputs": [],
   "source": [
    "device = \"cpu\""
   ]
  },
  {
   "cell_type": "code",
   "execution_count": null,
   "id": "ec5bdd34-86e4-4ed8-a6ae-f873cc470f51",
   "metadata": {},
   "outputs": [],
   "source": [
    "def get_features(dataset):\n",
    "    all_features = []\n",
    "    all_labels = []\n",
    "    \n",
    "    with torch.no_grad():\n",
    "        for images, labels in tqdm(DataLoader(dataset, batch_size=100)):\n",
    "            features = model.encode_image(images.to(device))\n",
    "\n",
    "            all_features.append(features)\n",
    "            all_labels.append(labels)\n",
    "\n",
    "    return torch.cat(all_features).cpu().numpy(), torch.cat(all_labels).cpu().numpy()"
   ]
  },
  {
   "cell_type": "code",
   "execution_count": null,
   "id": "71177d45-66a6-4fa0-926a-139e2754bbbc",
   "metadata": {},
   "outputs": [],
   "source": [
    "# Calculate the image features\n",
    "train_set, val_set = torch.utils.data.random_split(data_loader, [1000, 143])\n",
    "train_features, train_labels = get_features(train_set)\n",
    "test_features, test_labels = get_features(val_set)"
   ]
  },
  {
   "cell_type": "code",
   "execution_count": null,
   "id": "2d9ba5a5-2d89-4e7d-a064-b4dadce19f90",
   "metadata": {},
   "outputs": [],
   "source": [
    "# Perform logistic regression\n",
    "classifier = LogisticRegression(random_state=0, C=1.0, max_iter=3000, verbose=1)\n",
    "classifier.fit(train_features, train_labels)\n",
    "\n",
    "# Evaluate using the logistic regression classifier\n",
    "predictions = classifier.predict(test_features)\n",
    "accuracy = np.mean((test_labels == predictions).astype(np.float)) * 100.\n",
    "print(f\"Accuracy = {accuracy:.3f}\")"
   ]
  },
  {
   "cell_type": "code",
   "execution_count": null,
   "id": "84decc2a-3738-4eec-ac44-e1811154c164",
   "metadata": {},
   "outputs": [],
   "source": [
    "predictions"
   ]
  },
  {
   "cell_type": "code",
   "execution_count": null,
   "id": "e73bfb48-e5fa-4fb4-b482-cb240521c848",
   "metadata": {},
   "outputs": [],
   "source": [
    "list(data_loader.class_to_idx.keys())[1:-1]"
   ]
  },
  {
   "cell_type": "code",
   "execution_count": null,
   "id": "71f18f35-950a-4397-9c08-33a01428d19f",
   "metadata": {},
   "outputs": [],
   "source": [
    "fig, ax = plt.subplots(figsize=(10, 10))\n",
    "plot_confusion_matrix(classifier, test_features, test_labels, labels=list(range(9)), display_labels=list(data_loader.class_to_idx.keys()), ax=ax)"
   ]
  },
  {
   "cell_type": "code",
   "execution_count": null,
   "id": "d31ae594-b23d-4849-a27e-4b417fb5eaa4",
   "metadata": {},
   "outputs": [],
   "source": [
    "image_input = preprocess(image).unsqueeze(0).to(device)\n",
    "text_inputs = torch.cat([clip.tokenize(f\"a photo of a {c}\") for c in cifar100.classes]).to(device)\n",
    "\n",
    "# Calculate features\n",
    "with torch.no_grad():\n",
    "    image_features = model.encode_image(image_input)\n",
    "    text_features = model.encode_text(text_inputs)\n",
    "\n",
    "# Pick the top 5 most similar labels for the image\n",
    "image_features /= image_features.norm(dim=-1, keepdim=True)\n",
    "text_features /= text_features.norm(dim=-1, keepdim=True)\n",
    "similarity = (100.0 * image_features @ text_features.T).softmax(dim=-1)\n",
    "values, indices = similarity[0].topk(5)\n",
    "\n",
    "# Print the result\n",
    "print(\"\\nTop predictions:\\n\")\n",
    "for value, index in zip(values, indices):\n",
    "    print(f\"{cifar100.classes[index]:>16s}: {100 * value.item():.2f}%\")"
   ]
  },
  {
   "cell_type": "code",
   "execution_count": null,
   "id": "f208c8b4-700e-42dd-9062-fb731c6faa38",
   "metadata": {},
   "outputs": [],
   "source": []
  }
 ],
 "metadata": {
  "kernelspec": {
   "display_name": "Python 3",
   "language": "python",
   "name": "python3"
  },
  "language_info": {
   "codemirror_mode": {
    "name": "ipython",
    "version": 3
   },
   "file_extension": ".py",
   "mimetype": "text/x-python",
   "name": "python",
   "nbconvert_exporter": "python",
   "pygments_lexer": "ipython3",
   "version": "3.9.5"
  }
 },
 "nbformat": 4,
 "nbformat_minor": 5
}