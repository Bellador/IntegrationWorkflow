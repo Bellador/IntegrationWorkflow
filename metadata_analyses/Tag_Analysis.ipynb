{
 "cells": [
  {
   "cell_type": "markdown",
   "id": "4f9f0617",
   "metadata": {},
   "source": [
    "# Analyse Tag from Flickr Search Results via flickrapi"
   ]
  },
  {
   "cell_type": "markdown",
   "id": "ce4132ee",
   "metadata": {},
   "source": [
    "Be sure to create a file `api_creds` and add two global variables `api_key` and `api_key`. See Flickr API: https://www.flickr.com/services/api/"
   ]
  },
  {
   "cell_type": "code",
   "execution_count": null,
   "id": "e28c06cb",
   "metadata": {
    "tags": []
   },
   "outputs": [],
   "source": [
    "!pip install -r requirements.txt"
   ]
  },
  {
   "cell_type": "code",
   "execution_count": 1,
   "id": "a05c97cf",
   "metadata": {},
   "outputs": [],
   "source": [
    "\n",
    "from PIL import Image\n",
    "import urllib\n",
    "from functions.gallery import gallery\n",
    "import requests\n",
    "import tabulate\n",
    "import numpy as np\n",
    "from wordcloud import WordCloud\n",
    "%matplotlib inline\n",
    "import matplotlib.pyplot as plt\n",
    "plt.rcParams['figure.figsize'] = [10, 5]\n",
    "import folium\n"
   ]
  },
  {
   "cell_type": "code",
   "execution_count": 2,
   "id": "b43a9f0e",
   "metadata": {},
   "outputs": [],
   "source": [
    "import api_creds"
   ]
  },
  {
   "cell_type": "code",
   "execution_count": 3,
   "id": "c62eef1c",
   "metadata": {},
   "outputs": [],
   "source": [
    "import flickrapi\n",
    "\n",
    "flickr=flickrapi.FlickrAPI(api_creds.api_key, api_creds.api_secret, cache=True, format='parsed-json')"
   ]
  },
  {
   "cell_type": "code",
   "execution_count": null,
   "id": "72522999",
   "metadata": {},
   "outputs": [],
   "source": [
    "cluster_result = flickr.tags.getClusters(tag=\"Red Kite\")\n",
    "tags = [tag[\"_content\"] for tag in cluster_result[\"clusters\"][\"cluster\"][0][\"tag\"]]"
   ]
  },
  {
   "cell_type": "code",
   "execution_count": null,
   "id": "9e413702",
   "metadata": {},
   "outputs": [],
   "source": [
    "wordcloud = WordCloud(background_color=\"white\").generate(\" \".join(tags))\n",
    "\n",
    "plt.imshow(wordcloud, interpolation=\"bilinear\")\n",
    "plt.axis(\"off\")\n",
    "plt.show()\n"
   ]
  },
  {
   "cell_type": "code",
   "execution_count": null,
   "id": "59d55936",
   "metadata": {},
   "outputs": [],
   "source": [
    "tabulate.PRESERVE_WHITESPACE = True\n",
    "tabulate.tabulate(zip([i+1 for i in range(len(tags))],tags), tablefmt='html', headers=[\"Rank\", \"Tags\"])"
   ]
  },
  {
   "cell_type": "markdown",
   "id": "2078625e",
   "metadata": {},
   "source": [
    "# Tag Analysis"
   ]
  },
  {
   "cell_type": "markdown",
   "id": "1dbc3792",
   "metadata": {},
   "source": [
    "### Comparison eBird:\n",
    "\n",
    "- Sightings Milvus Milvus: 171.749\n",
    "- Images: 7.997/4.858\n",
    "(as of 24th of June 2021)"
   ]
  },
  {
   "cell_type": "code",
   "execution_count": 4,
   "id": "da1439fc",
   "metadata": {},
   "outputs": [],
   "source": [
    "labels = [\"Red Kite\", \"Milvus Milvus\", \"Bird\", \"Raptor\", \"Birdofprey\", \"Rotmilan\", \"Milan Royal\", \"Raubvogel\", \"Roter Milan\", \"Tree\", \"Baum\", \"Sky\", \"Himmel\"]"
   ]
  },
  {
   "cell_type": "code",
   "execution_count": null,
   "id": "80183127",
   "metadata": {},
   "outputs": [],
   "source": [
    "total_count = flickr.photos.search(tags=\",\".join(labels))[\"photos\"][\"total\"]"
   ]
  },
  {
   "cell_type": "code",
   "execution_count": null,
   "id": "48acb5a0",
   "metadata": {},
   "outputs": [],
   "source": [
    "total_count"
   ]
  },
  {
   "cell_type": "code",
   "execution_count": null,
   "id": "865f7bf2",
   "metadata": {},
   "outputs": [],
   "source": [
    "counts = [int(flickr.photos.search(tags=label)[\"photos\"][\"total\"]) for label in labels]"
   ]
  },
  {
   "cell_type": "code",
   "execution_count": null,
   "id": "e9bbc63f",
   "metadata": {},
   "outputs": [],
   "source": [
    "geo_counts = [int(flickr.photos.search(tags=label, has_geo=1)[\"photos\"][\"total\"]) for label in labels]"
   ]
  },
  {
   "cell_type": "code",
   "execution_count": null,
   "id": "6bef8612",
   "metadata": {},
   "outputs": [],
   "source": [
    "counts"
   ]
  },
  {
   "cell_type": "code",
   "execution_count": null,
   "id": "4cdd0fdc",
   "metadata": {},
   "outputs": [],
   "source": [
    "geo_counts"
   ]
  },
  {
   "cell_type": "code",
   "execution_count": null,
   "id": "90a78abd",
   "metadata": {},
   "outputs": [],
   "source": [
    "x = np.arange(len(labels[::-1]))  # the label locations\n",
    "width = 0.35  # the width of the bars\n",
    "fig, ax = plt.subplots()\n",
    "rects1 = ax.barh(x + width/2, counts[::-1], width, label='#Results All')\n",
    "rects2 = ax.barh(x - width/2, geo_counts[::-1], width, label='#Results Geo-Tagged')\n",
    "\n",
    "# Add some text for labels, title and custom x-axis tick labels, etc.\n",
    "ax.set_ylabel('Search Results')\n",
    "ax.set_title('#Results for Specified Tag')\n",
    "ax.set_yticks(x)\n",
    "ax.set_yticklabels(labels[::-1])\n",
    "ax.legend()\n",
    "\n",
    "ax.bar_label(rects1, padding=3)\n",
    "ax.bar_label(rects2, padding=3)\n",
    "\n",
    "fig.tight_layout()\n",
    "\n",
    "plt.savefig(\"global_counts\")\n",
    "plt.show()"
   ]
  },
  {
   "cell_type": "markdown",
   "id": "aaae4cce",
   "metadata": {},
   "source": [
    "**Total Percentage Geo-tagged:**"
   ]
  },
  {
   "cell_type": "code",
   "execution_count": null,
   "id": "ec4c3bf0",
   "metadata": {},
   "outputs": [],
   "source": [
    "np.mean(np.array(geo_counts)/np.array(counts))"
   ]
  },
  {
   "cell_type": "markdown",
   "id": "b488b0cd",
   "metadata": {},
   "source": [
    "**Milvus Milvus Percentage Geo-tagged:**"
   ]
  },
  {
   "cell_type": "code",
   "execution_count": null,
   "id": "fcf4f7f9",
   "metadata": {},
   "outputs": [],
   "source": [
    "geo_counts[1]/counts[1]"
   ]
  },
  {
   "cell_type": "markdown",
   "id": "d0475602",
   "metadata": {},
   "source": [
    "## Results in specified area\n",
    "\n",
    "Further analyze results in specified area"
   ]
  },
  {
   "cell_type": "code",
   "execution_count": 28,
   "id": "6592b0d7-ac53-4bd3-9241-2b30b44ea509",
   "metadata": {},
   "outputs": [
    {
     "data": {
      "text/html": [
       "<div style=\"width:100%;\"><div style=\"position:relative;width:100%;height:0;padding-bottom:60%;\"><span style=\"color:#565656\">Make this Notebook Trusted to load map: File -> Trust Notebook</span><iframe src=\"about:blank\" style=\"position:absolute;width:100%;height:100%;left:0;top:0;border:none !important;\" data-html=%3C%21DOCTYPE%20html%3E%0A%3Chead%3E%20%20%20%20%0A%20%20%20%20%3Cmeta%20http-equiv%3D%22content-type%22%20content%3D%22text/html%3B%20charset%3DUTF-8%22%20/%3E%0A%20%20%20%20%0A%20%20%20%20%20%20%20%20%3Cscript%3E%0A%20%20%20%20%20%20%20%20%20%20%20%20L_NO_TOUCH%20%3D%20false%3B%0A%20%20%20%20%20%20%20%20%20%20%20%20L_DISABLE_3D%20%3D%20false%3B%0A%20%20%20%20%20%20%20%20%3C/script%3E%0A%20%20%20%20%0A%20%20%20%20%3Cstyle%3Ehtml%2C%20body%20%7Bwidth%3A%20100%25%3Bheight%3A%20100%25%3Bmargin%3A%200%3Bpadding%3A%200%3B%7D%3C/style%3E%0A%20%20%20%20%3Cstyle%3E%23map%20%7Bposition%3Aabsolute%3Btop%3A0%3Bbottom%3A0%3Bright%3A0%3Bleft%3A0%3B%7D%3C/style%3E%0A%20%20%20%20%3Cscript%20src%3D%22https%3A//cdn.jsdelivr.net/npm/leaflet%401.6.0/dist/leaflet.js%22%3E%3C/script%3E%0A%20%20%20%20%3Cscript%20src%3D%22https%3A//code.jquery.com/jquery-1.12.4.min.js%22%3E%3C/script%3E%0A%20%20%20%20%3Cscript%20src%3D%22https%3A//maxcdn.bootstrapcdn.com/bootstrap/3.2.0/js/bootstrap.min.js%22%3E%3C/script%3E%0A%20%20%20%20%3Cscript%20src%3D%22https%3A//cdnjs.cloudflare.com/ajax/libs/Leaflet.awesome-markers/2.0.2/leaflet.awesome-markers.js%22%3E%3C/script%3E%0A%20%20%20%20%3Clink%20rel%3D%22stylesheet%22%20href%3D%22https%3A//cdn.jsdelivr.net/npm/leaflet%401.6.0/dist/leaflet.css%22/%3E%0A%20%20%20%20%3Clink%20rel%3D%22stylesheet%22%20href%3D%22https%3A//maxcdn.bootstrapcdn.com/bootstrap/3.2.0/css/bootstrap.min.css%22/%3E%0A%20%20%20%20%3Clink%20rel%3D%22stylesheet%22%20href%3D%22https%3A//maxcdn.bootstrapcdn.com/bootstrap/3.2.0/css/bootstrap-theme.min.css%22/%3E%0A%20%20%20%20%3Clink%20rel%3D%22stylesheet%22%20href%3D%22https%3A//maxcdn.bootstrapcdn.com/font-awesome/4.6.3/css/font-awesome.min.css%22/%3E%0A%20%20%20%20%3Clink%20rel%3D%22stylesheet%22%20href%3D%22https%3A//cdnjs.cloudflare.com/ajax/libs/Leaflet.awesome-markers/2.0.2/leaflet.awesome-markers.css%22/%3E%0A%20%20%20%20%3Clink%20rel%3D%22stylesheet%22%20href%3D%22https%3A//cdn.jsdelivr.net/gh/python-visualization/folium/folium/templates/leaflet.awesome.rotate.min.css%22/%3E%0A%20%20%20%20%0A%20%20%20%20%20%20%20%20%20%20%20%20%3Cmeta%20name%3D%22viewport%22%20content%3D%22width%3Ddevice-width%2C%0A%20%20%20%20%20%20%20%20%20%20%20%20%20%20%20%20initial-scale%3D1.0%2C%20maximum-scale%3D1.0%2C%20user-scalable%3Dno%22%20/%3E%0A%20%20%20%20%20%20%20%20%20%20%20%20%3Cstyle%3E%0A%20%20%20%20%20%20%20%20%20%20%20%20%20%20%20%20%23map_a78d5e273e074e98b62ad085d5e33e1b%20%7B%0A%20%20%20%20%20%20%20%20%20%20%20%20%20%20%20%20%20%20%20%20position%3A%20relative%3B%0A%20%20%20%20%20%20%20%20%20%20%20%20%20%20%20%20%20%20%20%20width%3A%20100.0%25%3B%0A%20%20%20%20%20%20%20%20%20%20%20%20%20%20%20%20%20%20%20%20height%3A%20100.0%25%3B%0A%20%20%20%20%20%20%20%20%20%20%20%20%20%20%20%20%20%20%20%20left%3A%200.0%25%3B%0A%20%20%20%20%20%20%20%20%20%20%20%20%20%20%20%20%20%20%20%20top%3A%200.0%25%3B%0A%20%20%20%20%20%20%20%20%20%20%20%20%20%20%20%20%7D%0A%20%20%20%20%20%20%20%20%20%20%20%20%3C/style%3E%0A%20%20%20%20%20%20%20%20%0A%3C/head%3E%0A%3Cbody%3E%20%20%20%20%0A%20%20%20%20%0A%20%20%20%20%20%20%20%20%20%20%20%20%3Cdiv%20class%3D%22folium-map%22%20id%3D%22map_a78d5e273e074e98b62ad085d5e33e1b%22%20%3E%3C/div%3E%0A%20%20%20%20%20%20%20%20%0A%3C/body%3E%0A%3Cscript%3E%20%20%20%20%0A%20%20%20%20%0A%20%20%20%20%20%20%20%20%20%20%20%20var%20map_a78d5e273e074e98b62ad085d5e33e1b%20%3D%20L.map%28%0A%20%20%20%20%20%20%20%20%20%20%20%20%20%20%20%20%22map_a78d5e273e074e98b62ad085d5e33e1b%22%2C%0A%20%20%20%20%20%20%20%20%20%20%20%20%20%20%20%20%7B%0A%20%20%20%20%20%20%20%20%20%20%20%20%20%20%20%20%20%20%20%20center%3A%20%5B47.07%2C%208.38%5D%2C%0A%20%20%20%20%20%20%20%20%20%20%20%20%20%20%20%20%20%20%20%20crs%3A%20L.CRS.EPSG3857%2C%0A%20%20%20%20%20%20%20%20%20%20%20%20%20%20%20%20%20%20%20%20zoom%3A%206%2C%0A%20%20%20%20%20%20%20%20%20%20%20%20%20%20%20%20%20%20%20%20zoomControl%3A%20true%2C%0A%20%20%20%20%20%20%20%20%20%20%20%20%20%20%20%20%20%20%20%20preferCanvas%3A%20false%2C%0A%20%20%20%20%20%20%20%20%20%20%20%20%20%20%20%20%7D%0A%20%20%20%20%20%20%20%20%20%20%20%20%29%3B%0A%0A%20%20%20%20%20%20%20%20%20%20%20%20%0A%0A%20%20%20%20%20%20%20%20%0A%20%20%20%20%0A%20%20%20%20%20%20%20%20%20%20%20%20var%20tile_layer_0715937da8b34062947376ae1e608dae%20%3D%20L.tileLayer%28%0A%20%20%20%20%20%20%20%20%20%20%20%20%20%20%20%20%22https%3A//stamen-tiles-%7Bs%7D.a.ssl.fastly.net/terrain/%7Bz%7D/%7Bx%7D/%7By%7D.jpg%22%2C%0A%20%20%20%20%20%20%20%20%20%20%20%20%20%20%20%20%7B%22attribution%22%3A%20%22Map%20tiles%20by%20%5Cu003ca%20href%3D%5C%22http%3A//stamen.com%5C%22%5Cu003eStamen%20Design%5Cu003c/a%5Cu003e%2C%20under%20%5Cu003ca%20href%3D%5C%22http%3A//creativecommons.org/licenses/by/3.0%5C%22%5Cu003eCC%20BY%203.0%5Cu003c/a%5Cu003e.%20Data%20by%20%5Cu0026copy%3B%20%5Cu003ca%20href%3D%5C%22http%3A//openstreetmap.org%5C%22%5Cu003eOpenStreetMap%5Cu003c/a%5Cu003e%2C%20under%20%5Cu003ca%20href%3D%5C%22http%3A//creativecommons.org/licenses/by-sa/3.0%5C%22%5Cu003eCC%20BY%20SA%5Cu003c/a%5Cu003e.%22%2C%20%22detectRetina%22%3A%20false%2C%20%22maxNativeZoom%22%3A%2018%2C%20%22maxZoom%22%3A%2018%2C%20%22minZoom%22%3A%200%2C%20%22noWrap%22%3A%20false%2C%20%22opacity%22%3A%201%2C%20%22subdomains%22%3A%20%22abc%22%2C%20%22tms%22%3A%20false%7D%0A%20%20%20%20%20%20%20%20%20%20%20%20%29.addTo%28map_a78d5e273e074e98b62ad085d5e33e1b%29%3B%0A%20%20%20%20%20%20%20%20%0A%20%20%20%20%0A%20%20%20%20%20%20%20%20%20%20%20%20var%20rectangle_e93e75bf900443d3b004ffdb0913c431%20%3D%20L.rectangle%28%0A%20%20%20%20%20%20%20%20%20%20%20%20%20%20%20%20%5B%5B46.88041%2C%208.3924%5D%2C%20%5B47.24894%2C%208.80186%5D%5D%2C%0A%20%20%20%20%20%20%20%20%20%20%20%20%20%20%20%20%7B%22bubblingMouseEvents%22%3A%20true%2C%20%22color%22%3A%20%22%233388ff%22%2C%20%22dashArray%22%3A%20null%2C%20%22dashOffset%22%3A%20null%2C%20%22fill%22%3A%20false%2C%20%22fillColor%22%3A%20%22%233388ff%22%2C%20%22fillOpacity%22%3A%200.2%2C%20%22fillRule%22%3A%20%22evenodd%22%2C%20%22lineCap%22%3A%20%22round%22%2C%20%22lineJoin%22%3A%20%22round%22%2C%20%22noClip%22%3A%20false%2C%20%22opacity%22%3A%201.0%2C%20%22smoothFactor%22%3A%201.0%2C%20%22stroke%22%3A%20true%2C%20%22weight%22%3A%203%7D%0A%20%20%20%20%20%20%20%20%20%20%20%20%29.addTo%28map_a78d5e273e074e98b62ad085d5e33e1b%29%3B%0A%20%20%20%20%20%20%20%20%0A%3C/script%3E onload=\"this.contentDocument.open();this.contentDocument.write(    decodeURIComponent(this.getAttribute('data-html')));this.contentDocument.close();\" allowfullscreen webkitallowfullscreen mozallowfullscreen></iframe></div></div>"
      ],
      "text/plain": [
       "<folium.folium.Map at 0x120225dc0>"
      ]
     },
     "execution_count": 28,
     "metadata": {},
     "output_type": "execute_result"
    }
   ],
   "source": [
    "bbox = [[46.88041, 8.3924], [47.24894, 8.80186] ]\n",
    "m = folium.Map(location=[47.07,8.38],\n",
    "                   tiles='Stamen Terrain', zoom_start = 6)\n",
    "\n",
    "# Overlay raster called img using add_child() function (opacity and bounding box set)\n",
    "m.add_child(folium.vector_layers.Rectangle(bounds =bbox_canton_zug))\n"
   ]
  },
  {
   "cell_type": "code",
   "execution_count": null,
   "id": "9e374ad6",
   "metadata": {},
   "outputs": [],
   "source": [
    "scottland_counts = [int(flickr.photos.search(tags=label, has_geo=1, bbox=\",\".join([str(bbox[0][1]), str(bbox[0][0]), str(bbox[1][1]), str(bbox[1][0])]))[\"photos\"][\"total\"]) for label in labels]"
   ]
  },
  {
   "cell_type": "code",
   "execution_count": null,
   "id": "f282b8b8",
   "metadata": {},
   "outputs": [],
   "source": [
    "flickr.photos.search(has_geo=1, bbox=\",\".join([str(bbox[0][1]), str(bbox[0][0]), str(bbox[1][1]), str(bbox[1][0])]))[\"photos\"][\"total\"]"
   ]
  },
  {
   "cell_type": "code",
   "execution_count": null,
   "id": "6f466203",
   "metadata": {},
   "outputs": [],
   "source": [
    "scottland_counts"
   ]
  },
  {
   "cell_type": "code",
   "execution_count": null,
   "id": "0b60fca4",
   "metadata": {},
   "outputs": [],
   "source": [
    "x = np.arange(len(labels[::-1]))  # the label locations\n",
    "width = 0.35  # the width of the bars\n",
    "fig, ax = plt.subplots()\n",
    "rects1 = ax.barh(x + width/2, scottland_counts[::-1], width, label='#Results All')\n",
    "\n",
    "# Add some text for labels, title and custom x-axis tick labels, etc.\n",
    "ax.set_ylabel('Search Results')\n",
    "ax.set_title('#Results for Specified Tag')\n",
    "ax.set_yticks(x)\n",
    "ax.set_yticklabels(labels[::-1])\n",
    "ax.legend()\n",
    "\n",
    "ax.bar_label(rects1, padding=3)\n",
    "\n",
    "fig.tight_layout()\n",
    "\n",
    "plt.savefig(\"tags_zug_und_schwyz\")\n",
    "plt.show()"
   ]
  },
  {
   "cell_type": "code",
   "execution_count": null,
   "id": "77c76be0-0019-48de-8cec-7315e8c857fd",
   "metadata": {},
   "outputs": [],
   "source": []
  }
 ],
 "metadata": {
  "kernelspec": {
   "display_name": "Python 3 (ipykernel)",
   "language": "python",
   "name": "python3"
  },
  "language_info": {
   "codemirror_mode": {
    "name": "ipython",
    "version": 3
   },
   "file_extension": ".py",
   "mimetype": "text/x-python",
   "name": "python",
   "nbconvert_exporter": "python",
   "pygments_lexer": "ipython3",
   "version": "3.9.8"
  }
 },
 "nbformat": 4,
 "nbformat_minor": 5
}